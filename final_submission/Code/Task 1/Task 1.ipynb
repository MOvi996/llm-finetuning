{
  "cells": [
    {
      "cell_type": "markdown",
      "metadata": {
        "id": "X5f8Z2UWChYc"
      },
      "source": [
        "# Task 1: Language model inference"
      ]
    },
    {
      "cell_type": "markdown",
      "metadata": {
        "id": "y67gPqFbChYe"
      },
      "source": [
        "The goal if this first task is to familiarize yourself with the huggingface transformers and dataset libraries. You will learn how to load and tokenize a dataset, how to load a pre-trained language model, and finally, how to run a model in inference mode."
      ]
    },
    {
      "cell_type": "markdown",
      "metadata": {
        "id": "MK9kNgnsChYg"
      },
      "source": [
        "Your task is to complete the missing code blocks below."
      ]
    },
    {
      "cell_type": "code",
      "execution_count": 49,
      "metadata": {
        "colab": {
          "base_uri": "https://localhost:8080/"
        },
        "id": "RT-BDJQ1ChYh",
        "outputId": "85c4ace0-742a-4d92-866a-9721ab553a36"
      },
      "outputs": [
        {
          "output_type": "stream",
          "name": "stdout",
          "text": [
            "Requirement already satisfied: datasets in /usr/local/lib/python3.10/dist-packages (2.18.0)\n",
            "Requirement already satisfied: filelock in /usr/local/lib/python3.10/dist-packages (from datasets) (3.13.1)\n",
            "Requirement already satisfied: numpy>=1.17 in /usr/local/lib/python3.10/dist-packages (from datasets) (1.25.2)\n",
            "Requirement already satisfied: pyarrow>=12.0.0 in /usr/local/lib/python3.10/dist-packages (from datasets) (14.0.2)\n",
            "Requirement already satisfied: pyarrow-hotfix in /usr/local/lib/python3.10/dist-packages (from datasets) (0.6)\n",
            "Requirement already satisfied: dill<0.3.9,>=0.3.0 in /usr/local/lib/python3.10/dist-packages (from datasets) (0.3.8)\n",
            "Requirement already satisfied: pandas in /usr/local/lib/python3.10/dist-packages (from datasets) (1.5.3)\n",
            "Requirement already satisfied: requests>=2.19.0 in /usr/local/lib/python3.10/dist-packages (from datasets) (2.31.0)\n",
            "Requirement already satisfied: tqdm>=4.62.1 in /usr/local/lib/python3.10/dist-packages (from datasets) (4.66.2)\n",
            "Requirement already satisfied: xxhash in /usr/local/lib/python3.10/dist-packages (from datasets) (3.4.1)\n",
            "Requirement already satisfied: multiprocess in /usr/local/lib/python3.10/dist-packages (from datasets) (0.70.16)\n",
            "Requirement already satisfied: fsspec[http]<=2024.2.0,>=2023.1.0 in /usr/local/lib/python3.10/dist-packages (from datasets) (2023.6.0)\n",
            "Requirement already satisfied: aiohttp in /usr/local/lib/python3.10/dist-packages (from datasets) (3.9.3)\n",
            "Requirement already satisfied: huggingface-hub>=0.19.4 in /usr/local/lib/python3.10/dist-packages (from datasets) (0.20.3)\n",
            "Requirement already satisfied: packaging in /usr/local/lib/python3.10/dist-packages (from datasets) (23.2)\n",
            "Requirement already satisfied: pyyaml>=5.1 in /usr/local/lib/python3.10/dist-packages (from datasets) (6.0.1)\n",
            "Requirement already satisfied: aiosignal>=1.1.2 in /usr/local/lib/python3.10/dist-packages (from aiohttp->datasets) (1.3.1)\n",
            "Requirement already satisfied: attrs>=17.3.0 in /usr/local/lib/python3.10/dist-packages (from aiohttp->datasets) (23.2.0)\n",
            "Requirement already satisfied: frozenlist>=1.1.1 in /usr/local/lib/python3.10/dist-packages (from aiohttp->datasets) (1.4.1)\n",
            "Requirement already satisfied: multidict<7.0,>=4.5 in /usr/local/lib/python3.10/dist-packages (from aiohttp->datasets) (6.0.5)\n",
            "Requirement already satisfied: yarl<2.0,>=1.0 in /usr/local/lib/python3.10/dist-packages (from aiohttp->datasets) (1.9.4)\n",
            "Requirement already satisfied: async-timeout<5.0,>=4.0 in /usr/local/lib/python3.10/dist-packages (from aiohttp->datasets) (4.0.3)\n",
            "Requirement already satisfied: typing-extensions>=3.7.4.3 in /usr/local/lib/python3.10/dist-packages (from huggingface-hub>=0.19.4->datasets) (4.10.0)\n",
            "Requirement already satisfied: charset-normalizer<4,>=2 in /usr/local/lib/python3.10/dist-packages (from requests>=2.19.0->datasets) (3.3.2)\n",
            "Requirement already satisfied: idna<4,>=2.5 in /usr/local/lib/python3.10/dist-packages (from requests>=2.19.0->datasets) (3.6)\n",
            "Requirement already satisfied: urllib3<3,>=1.21.1 in /usr/local/lib/python3.10/dist-packages (from requests>=2.19.0->datasets) (2.0.7)\n",
            "Requirement already satisfied: certifi>=2017.4.17 in /usr/local/lib/python3.10/dist-packages (from requests>=2.19.0->datasets) (2024.2.2)\n",
            "Requirement already satisfied: python-dateutil>=2.8.1 in /usr/local/lib/python3.10/dist-packages (from pandas->datasets) (2.8.2)\n",
            "Requirement already satisfied: pytz>=2020.1 in /usr/local/lib/python3.10/dist-packages (from pandas->datasets) (2023.4)\n",
            "Requirement already satisfied: six>=1.5 in /usr/local/lib/python3.10/dist-packages (from python-dateutil>=2.8.1->pandas->datasets) (1.16.0)\n"
          ]
        }
      ],
      "source": [
        "!pip install datasets\n",
        "\n",
        "# import dependencies\n",
        "import matplotlib.pyplot as plt\n",
        "import numpy as np\n",
        "import torch\n",
        "\n",
        "from datasets import load_dataset, load_dataset_builder, get_dataset_split_names, get_dataset_config_names\n",
        "from transformers import XGLMTokenizer, XGLMTokenizerFast, XGLMForCausalLM, AutoModelForCausalLM, AutoTokenizer, GenerationConfig\n",
        "from torch.utils.data import DataLoader"
      ]
    },
    {
      "cell_type": "markdown",
      "metadata": {
        "id": "xudqmeZgChYj"
      },
      "source": [
        "## Explore dataset"
      ]
    },
    {
      "cell_type": "code",
      "execution_count": 50,
      "metadata": {
        "id": "0f4R8WmaChYj"
      },
      "outputs": [],
      "source": [
        "DATA_SET_NAME = \"facebook/flores\" # specify dataset name\n",
        "MODEL_NAME = \"facebook/xglm-564M\" # specify model name\n",
        "# MODEL_NAME = \"gpt2\" # specify model name"
      ]
    },
    {
      "cell_type": "code",
      "execution_count": 51,
      "metadata": {
        "colab": {
          "base_uri": "https://localhost:8080/"
        },
        "id": "RT4buuJxChYk",
        "outputId": "734a8704-71e7-4970-af7e-6ef1cb82cf02"
      },
      "outputs": [
        {
          "output_type": "stream",
          "name": "stderr",
          "text": [
            "/usr/local/lib/python3.10/dist-packages/datasets/load.py:1461: FutureWarning: The repository for facebook/flores contains custom code which must be executed to correctly load the dataset. You can inspect the repository content at https://hf.co/datasets/facebook/flores\n",
            "You can avoid this message in future by passing the argument `trust_remote_code=True`.\n",
            "Passing `trust_remote_code=True` will be mandatory to load this dataset from the next major release of `datasets`.\n",
            "  warnings.warn(\n"
          ]
        },
        {
          "output_type": "stream",
          "name": "stdout",
          "text": [
            "The creation of FLORES-200 doubles the existing language coverage of FLORES-101. \n",
            "Given the nature of the new languages, which have less standardization and require \n",
            "more specialized professional translations, the verification process became more complex. \n",
            "This required modifications to the translation workflow. FLORES-200 has several languages \n",
            "which were not translated from English. Specifically, several languages were translated \n",
            "from Spanish, French, Russian and Modern Standard Arabic. Moreover, FLORES-200 also \n",
            "includes two script alternatives for four languages. FLORES-200 consists of translations \n",
            "from 842 distinct web articles, totaling 3001 sentences. These sentences are divided \n",
            "into three splits: dev, devtest, and test (hidden). On average, sentences are approximately \n",
            "21 words long.\n",
            "\n"
          ]
        }
      ],
      "source": [
        "# Explore a dataset\n",
        "\n",
        "# covered language codes can be found here: https://github.com/openlanguagedata/flores?tab=readme-ov-file#language-coverage\n",
        "\n",
        "ds_builder = load_dataset_builder(\"facebook/flores\", \"deu_Latn\")\n",
        "print(ds_builder.info.description) # print the dataset description"
      ]
    },
    {
      "cell_type": "code",
      "execution_count": 52,
      "metadata": {
        "colab": {
          "base_uri": "https://localhost:8080/"
        },
        "id": "zrZrfcXYChYl",
        "outputId": "a00c792b-4288-45f3-f42a-ca55895b45a3"
      },
      "outputs": [
        {
          "output_type": "stream",
          "name": "stdout",
          "text": [
            "Columns Names:\n",
            "{'dev': ['id', 'URL', 'domain', 'topic', 'has_image', 'has_hyperlink', 'sentence'], 'devtest': ['id', 'URL', 'domain', 'topic', 'has_image', 'has_hyperlink', 'sentence']}\n",
            "\n",
            "dev Features:\n",
            "{'id': Value(dtype='int32', id=None), 'URL': Value(dtype='string', id=None), 'domain': Value(dtype='string', id=None), 'topic': Value(dtype='string', id=None), 'has_image': Value(dtype='int32', id=None), 'has_hyperlink': Value(dtype='int32', id=None), 'sentence': Value(dtype='string', id=None)}\n",
            "\n",
            "devtest Features:\n",
            "{'id': Value(dtype='int32', id=None), 'URL': Value(dtype='string', id=None), 'domain': Value(dtype='string', id=None), 'topic': Value(dtype='string', id=None), 'has_image': Value(dtype='int32', id=None), 'has_hyperlink': Value(dtype='int32', id=None), 'sentence': Value(dtype='string', id=None)}\n"
          ]
        }
      ],
      "source": [
        "# print the features (columns) of the dataset\n",
        "# TODO: your code goes here\n",
        "dataset = load_dataset(\"facebook/flores\", \"deu_Latn\")\n",
        "print(\"Columns Names:\")\n",
        "print(dataset.column_names)\n",
        "print(\"\\ndev Features:\")\n",
        "print(dataset['dev'].features)\n",
        "print(\"\\ndevtest Features:\")\n",
        "print(dataset['devtest'].features)"
      ]
    },
    {
      "cell_type": "code",
      "execution_count": 53,
      "metadata": {
        "colab": {
          "base_uri": "https://localhost:8080/"
        },
        "id": "sFdK_9-gChYn",
        "outputId": "0b1e1332-572c-4787-b0c8-2073f9875f48"
      },
      "outputs": [
        {
          "output_type": "stream",
          "name": "stdout",
          "text": [
            "['dev', 'devtest']\n"
          ]
        }
      ],
      "source": [
        "# get the available splits\n",
        "# TODO: your code goes here\n",
        "splits=get_dataset_split_names(\"facebook/flores\", \"deu_Latn\")\n",
        "print(splits)"
      ]
    },
    {
      "cell_type": "markdown",
      "metadata": {
        "id": "X80aL6yyChYp"
      },
      "source": [
        "## Load data, tokenize, and batchify"
      ]
    },
    {
      "cell_type": "code",
      "execution_count": 54,
      "metadata": {
        "id": "nZzUfUxBChYq"
      },
      "outputs": [],
      "source": [
        "# specify languages\n",
        "LANGUAGES = [\n",
        "    \"eng_Latn\",\n",
        "    \"spa_Latn\",\n",
        "    \"ita_Latn\",\n",
        "    \"deu_Latn\",\n",
        "    \"arb_Arab\",\n",
        "    \"tel_Telu\",\n",
        "    \"tam_Taml\",\n",
        "    \"quy_Latn\"\n",
        "]"
      ]
    },
    {
      "cell_type": "code",
      "execution_count": 55,
      "metadata": {
        "id": "dpUQCKn6ChYr"
      },
      "outputs": [],
      "source": [
        "# load flores data for each language\n",
        "# TODO: your code goes here\n",
        "flores_dataset={}\n",
        "flores_dataset_builder={}\n",
        "for language in LANGUAGES :\n",
        "    dataset = load_dataset(\"facebook/flores\", language)\n",
        "    flores_dataset[language] = dataset\n",
        "    dataset_builder = load_dataset_builder(\"facebook/flores\", language)\n",
        "    flores_dataset_builder[language] = dataset_builder"
      ]
    },
    {
      "cell_type": "code",
      "execution_count": 56,
      "metadata": {
        "colab": {
          "base_uri": "https://localhost:8080/"
        },
        "id": "ZI2ftl5VChYr",
        "outputId": "3b099492-0b55-4a35-a47b-ecf0c0654a5d"
      },
      "outputs": [
        {
          "output_type": "stream",
          "name": "stdout",
          "text": [
            "Description:\n",
            "The creation of FLORES-200 doubles the existing language coverage of FLORES-101. \n",
            "Given the nature of the new languages, which have less standardization and require \n",
            "more specialized professional translations, the verification process became more complex. \n",
            "This required modifications to the translation workflow. FLORES-200 has several languages \n",
            "which were not translated from English. Specifically, several languages were translated \n",
            "from Spanish, French, Russian and Modern Standard Arabic. Moreover, FLORES-200 also \n",
            "includes two script alternatives for four languages. FLORES-200 consists of translations \n",
            "from 842 distinct web articles, totaling 3001 sentences. These sentences are divided \n",
            "into three splits: dev, devtest, and test (hidden). On average, sentences are approximately \n",
            "21 words long.\n",
            "\n",
            "Features:\n",
            "{'id': Value(dtype='int32', id=None), 'URL': Value(dtype='string', id=None), 'domain': Value(dtype='string', id=None), 'topic': Value(dtype='string', id=None), 'has_image': Value(dtype='int32', id=None), 'has_hyperlink': Value(dtype='int32', id=None), 'sentence': Value(dtype='string', id=None)}\n",
            "\n",
            "Splits:\n",
            "{'dev': SplitInfo(name='dev', num_bytes=245488, num_examples=997, shard_lengths=None, dataset_name='flores'), 'devtest': SplitInfo(name='devtest', num_bytes=255993, num_examples=1012, shard_lengths=None, dataset_name='flores')}\n",
            "\n",
            "Column_names:\n",
            "{'dev': ['id', 'URL', 'domain', 'topic', 'has_image', 'has_hyperlink', 'sentence'], 'devtest': ['id', 'URL', 'domain', 'topic', 'has_image', 'has_hyperlink', 'sentence']}\n"
          ]
        }
      ],
      "source": [
        "# let's look at the English subset\n",
        "# TODO: your code goes here\n",
        "eng_dataset_builder=flores_dataset_builder[\"eng_Latn\"]\n",
        "eng_dataset=flores_dataset[\"eng_Latn\"]\n",
        "print(\"Description:\")\n",
        "print(eng_dataset_builder.info.description)\n",
        "print(\"Features:\")\n",
        "print(eng_dataset_builder.info.features)\n",
        "print(\"\\nSplits:\")\n",
        "print(eng_dataset_builder.info.splits)\n",
        "print(\"\\nColumn_names:\")\n",
        "print(eng_dataset.column_names)"
      ]
    },
    {
      "cell_type": "code",
      "execution_count": 57,
      "metadata": {
        "colab": {
          "base_uri": "https://localhost:8080/"
        },
        "id": "X_w-meGtChYr",
        "outputId": "f081c959-6047-4a70-8597-5f8ce045ac0a"
      },
      "outputs": [
        {
          "output_type": "stream",
          "name": "stdout",
          "text": [
            "{'id': 1, 'URL': 'https://en.wikinews.org/wiki/Scientists_say_new_medical_diagnostic_chip_can_sort_cells_anywhere_with_an_inkjet', 'domain': 'wikinews', 'topic': 'health', 'has_image': 0, 'has_hyperlink': 0, 'sentence': 'On Monday, scientists from the Stanford University School of Medicine announced the invention of a new diagnostic tool that can sort cells by type: a tiny printable chip that can be manufactured using standard inkjet printers for possibly about one U.S. cent each.'}\n",
            "\n",
            "Sample Sentence:\n",
            "On Monday, scientists from the Stanford University School of Medicine announced the invention of a new diagnostic tool that can sort cells by type: a tiny printable chip that can be manufactured using standard inkjet printers for possibly about one U.S. cent each.\n"
          ]
        }
      ],
      "source": [
        "# let's look at an individal sample from the dataset\n",
        "# TODO: your code goes here\n",
        "dev=eng_dataset['dev']\n",
        "sample_dev = dev[0]\n",
        "print(sample_dev)\n",
        "sample_sentence=sample_dev['sentence']\n",
        "print(\"\\nSample Sentence:\")\n",
        "print(sample_sentence)"
      ]
    },
    {
      "cell_type": "code",
      "execution_count": 58,
      "metadata": {
        "colab": {
          "base_uri": "https://localhost:8080/",
          "height": 49,
          "referenced_widgets": [
            "314d7338a4da4464ab4a4f19554d0587",
            "20b1f21ec4fb41698f8c3389405f26f2",
            "7fd2353526b94ed6a74109618a811dbf",
            "2b808fdb5c6147ddb3957b47ced72573",
            "b5d1ecf82b5248438ced8933f5cf917d",
            "42e6f140696b470c82a163f0be5a6691",
            "9d7cc1bf6e7949dc8461cc39910a4c4a",
            "0c0bd88d8c124615a97c8041fadfb6f0",
            "f7336d486dbd4835ac016d75c94106a4",
            "b551bdbd2cce43b09e7d31dcdf04400d",
            "926f6181347f4ce7b50715dc9f3568cc"
          ]
        },
        "id": "6jQZoNl8ChYs",
        "outputId": "f785bab1-cb74-4983-815f-90f23f40297e"
      },
      "outputs": [
        {
          "output_type": "display_data",
          "data": {
            "text/plain": [
              "Map:   0%|          | 0/1012 [00:00<?, ? examples/s]"
            ],
            "application/vnd.jupyter.widget-view+json": {
              "version_major": 2,
              "version_minor": 0,
              "model_id": "314d7338a4da4464ab4a4f19554d0587"
            }
          },
          "metadata": {}
        }
      ],
      "source": [
        "# tokenize the data\n",
        "\n",
        "# load a pre-trained tokenizer from the huggingface hub\n",
        "tokenizer = AutoTokenizer.from_pretrained(MODEL_NAME)\n",
        "\n",
        "# gpt2 does not have a padding token, so we have to add it manually\n",
        "if MODEL_NAME == \"gpt2\":\n",
        "    tokenizer.add_special_tokens({'pad_token': tokenizer.unk_token})\n",
        "\n",
        "# specify the tokenization function\n",
        "def tokenization(example):\n",
        "    return tokenizer(example['sentence'], padding='max_length', truncation=True, max_length=42)\n",
        "\n",
        "# TODO: your code goes here\n",
        "tokenized_datasets = {}\n",
        "for language, dataset in flores_dataset.items():\n",
        "    tokenized_datasets[language] = dataset.map(tokenization, batched=True)"
      ]
    },
    {
      "cell_type": "code",
      "execution_count": 59,
      "metadata": {
        "colab": {
          "base_uri": "https://localhost:8080/"
        },
        "id": "aX8yiY0EChYs",
        "outputId": "afd94460-171f-4144-f180-18af09787ff1"
      },
      "outputs": [
        {
          "output_type": "stream",
          "name": "stdout",
          "text": [
            "English tokenized sample\n",
            "{'id': 1, 'URL': 'https://en.wikinews.org/wiki/Scientists_say_new_medical_diagnostic_chip_can_sort_cells_anywhere_with_an_inkjet', 'domain': 'wikinews', 'topic': 'health', 'has_image': 0, 'has_hyperlink': 0, 'sentence': 'On Monday, scientists from the Stanford University School of Medicine announced the invention of a new diagnostic tool that can sort cells by type: a tiny printable chip that can be manufactured using standard inkjet printers for possibly about one U.S. cent each.', 'input_ids': [2, 1504, 28488, 4, 140003, 501, 32, 200884, 6073, 9512, 48, 88230, 76168, 32, 160597, 48, 11, 929, 55516, 35761, 155, 490, 9482, 89288, 235, 6950, 13, 11, 61368, 24049, 2005, 37295, 155, 490, 113, 213481, 72, 1117, 5885, 86368, 6929, 111288], 'attention_mask': [1, 1, 1, 1, 1, 1, 1, 1, 1, 1, 1, 1, 1, 1, 1, 1, 1, 1, 1, 1, 1, 1, 1, 1, 1, 1, 1, 1, 1, 1, 1, 1, 1, 1, 1, 1, 1, 1, 1, 1, 1, 1]}\n",
            "\n",
            "tokenized sample input ids:\n",
            "[2, 1504, 28488, 4, 140003, 501, 32, 200884, 6073, 9512, 48, 88230, 76168, 32, 160597, 48, 11, 929, 55516, 35761, 155, 490, 9482, 89288, 235, 6950, 13, 11, 61368, 24049, 2005, 37295, 155, 490, 113, 213481, 72, 1117, 5885, 86368, 6929, 111288]\n",
            "\n",
            "tokenized sample attention mask\n",
            "[1, 1, 1, 1, 1, 1, 1, 1, 1, 1, 1, 1, 1, 1, 1, 1, 1, 1, 1, 1, 1, 1, 1, 1, 1, 1, 1, 1, 1, 1, 1, 1, 1, 1, 1, 1, 1, 1, 1, 1, 1, 1]\n"
          ]
        }
      ],
      "source": [
        "# let's take a look at a tokenized sample\n",
        "# TODO: your code goes here\n",
        "english_tokenized_dataset = tokenized_datasets['eng_Latn']\n",
        "english_tokenized_sample = english_tokenized_dataset['dev'][0]\n",
        "print(\"English tokenized sample\")\n",
        "print(english_tokenized_sample)\n",
        "print(\"\\ntokenized sample input ids:\")\n",
        "print(english_tokenized_sample['input_ids'])\n",
        "print(\"\\ntokenized sample attention mask\")\n",
        "print(english_tokenized_sample['attention_mask'])"
      ]
    },
    {
      "cell_type": "code",
      "execution_count": 60,
      "metadata": {
        "colab": {
          "base_uri": "https://localhost:8080/"
        },
        "id": "TWce-P3_ChYt",
        "outputId": "767faf6b-52a1-494c-e8d3-4ddb1759aa13"
      },
      "outputs": [
        {
          "output_type": "stream",
          "name": "stdout",
          "text": [
            "<torch.utils.data.dataloader.DataLoader object at 0x7d0c4ecfe620>\n"
          ]
        }
      ],
      "source": [
        "# construct a pytorch data loader for each dataset\n",
        "BATCH_SIZE = 2 # for testing purposes, we start with a batch size of 2. You can change this later.\n",
        "\n",
        "# TODO: your code goes here\n",
        "for language, dataset in tokenized_datasets.items():\n",
        "    for split in dataset.keys():\n",
        "        dataset[split].set_format(type='torch')\n",
        "\n",
        "data_loaders = {}\n",
        "for language, dataset in tokenized_datasets.items():\n",
        "    data_loaders[language] = {}\n",
        "    for split in dataset.keys():\n",
        "        data_loaders[language][split] = DataLoader(dataset[split], batch_size=BATCH_SIZE, shuffle=True)\n",
        "\n",
        "english_dev_loader = data_loaders['eng_Latn']['dev']\n",
        "print(english_dev_loader)"
      ]
    },
    {
      "cell_type": "markdown",
      "metadata": {
        "id": "ZXCKMu9rChYt"
      },
      "source": [
        "## Load model"
      ]
    },
    {
      "cell_type": "code",
      "execution_count": 61,
      "metadata": {
        "colab": {
          "base_uri": "https://localhost:8080/"
        },
        "id": "PbzsxImmChYt",
        "outputId": "458c3a73-795f-49e6-811b-2a71c7b18655"
      },
      "outputs": [
        {
          "output_type": "execute_result",
          "data": {
            "text/plain": [
              "XGLMForCausalLM(\n",
              "  (model): XGLMModel(\n",
              "    (embed_tokens): Embedding(256008, 1024, padding_idx=1)\n",
              "    (embed_positions): XGLMSinusoidalPositionalEmbedding()\n",
              "    (layers): ModuleList(\n",
              "      (0-23): 24 x XGLMDecoderLayer(\n",
              "        (self_attn): XGLMAttention(\n",
              "          (k_proj): Linear(in_features=1024, out_features=1024, bias=True)\n",
              "          (v_proj): Linear(in_features=1024, out_features=1024, bias=True)\n",
              "          (q_proj): Linear(in_features=1024, out_features=1024, bias=True)\n",
              "          (out_proj): Linear(in_features=1024, out_features=1024, bias=True)\n",
              "        )\n",
              "        (activation_fn): GELUActivation()\n",
              "        (self_attn_layer_norm): LayerNorm((1024,), eps=1e-05, elementwise_affine=True)\n",
              "        (fc1): Linear(in_features=1024, out_features=4096, bias=True)\n",
              "        (fc2): Linear(in_features=4096, out_features=1024, bias=True)\n",
              "        (final_layer_norm): LayerNorm((1024,), eps=1e-05, elementwise_affine=True)\n",
              "      )\n",
              "    )\n",
              "    (layer_norm): LayerNorm((1024,), eps=1e-05, elementwise_affine=True)\n",
              "  )\n",
              "  (lm_head): Linear(in_features=1024, out_features=256008, bias=False)\n",
              ")"
            ]
          },
          "metadata": {},
          "execution_count": 61
        }
      ],
      "source": [
        "# load pre-trained model from the huggingface hub\n",
        "model = AutoModelForCausalLM.from_pretrained(MODEL_NAME)\n",
        "# put the model into evaluation mode\n",
        "# TODO: your code goes here\n",
        "model.eval()"
      ]
    },
    {
      "cell_type": "code",
      "source": [
        "device = torch.device(\"cuda\" if torch.cuda.is_available() else \"cpu\")\n",
        "model.to(device)"
      ],
      "metadata": {
        "colab": {
          "base_uri": "https://localhost:8080/"
        },
        "id": "CTAdKgwjsDpF",
        "outputId": "ced13a9e-3806-400d-b778-6c5f1336b39f"
      },
      "execution_count": 62,
      "outputs": [
        {
          "output_type": "execute_result",
          "data": {
            "text/plain": [
              "XGLMForCausalLM(\n",
              "  (model): XGLMModel(\n",
              "    (embed_tokens): Embedding(256008, 1024, padding_idx=1)\n",
              "    (embed_positions): XGLMSinusoidalPositionalEmbedding()\n",
              "    (layers): ModuleList(\n",
              "      (0-23): 24 x XGLMDecoderLayer(\n",
              "        (self_attn): XGLMAttention(\n",
              "          (k_proj): Linear(in_features=1024, out_features=1024, bias=True)\n",
              "          (v_proj): Linear(in_features=1024, out_features=1024, bias=True)\n",
              "          (q_proj): Linear(in_features=1024, out_features=1024, bias=True)\n",
              "          (out_proj): Linear(in_features=1024, out_features=1024, bias=True)\n",
              "        )\n",
              "        (activation_fn): GELUActivation()\n",
              "        (self_attn_layer_norm): LayerNorm((1024,), eps=1e-05, elementwise_affine=True)\n",
              "        (fc1): Linear(in_features=1024, out_features=4096, bias=True)\n",
              "        (fc2): Linear(in_features=4096, out_features=1024, bias=True)\n",
              "        (final_layer_norm): LayerNorm((1024,), eps=1e-05, elementwise_affine=True)\n",
              "      )\n",
              "    )\n",
              "    (layer_norm): LayerNorm((1024,), eps=1e-05, elementwise_affine=True)\n",
              "  )\n",
              "  (lm_head): Linear(in_features=1024, out_features=256008, bias=False)\n",
              ")"
            ]
          },
          "metadata": {},
          "execution_count": 62
        }
      ]
    },
    {
      "cell_type": "code",
      "source": [
        "# Initialize a dictionary to store per-batch losses for each language\n",
        "losses = {lang: {'dev': [], 'devtest': []} for lang in LANGUAGES}\n",
        "\n",
        "# Iterate over the dataset loaders for each language\n",
        "for lang, data_loader_dict in data_loaders.items():\n",
        "    for split, data_loader in data_loader_dict.items():\n",
        "        # Iterate over batches\n",
        "        print(lang)\n",
        "        print(split)\n",
        "        for batch in data_loader:\n",
        "            # Move input to CPU\n",
        "            input_ids = batch['input_ids']\n",
        "            attention_mask = batch['attention_mask']\n",
        "\n",
        "            # Forward pass\n",
        "            with torch.no_grad():\n",
        "                # Move input to GPU if available\n",
        "                input_ids = input_ids.to(device)\n",
        "                attention_mask = attention_mask.to(device)\n",
        "\n",
        "                outputs = model(input_ids, attention_mask=attention_mask, labels=input_ids)\n",
        "\n",
        "            # Compute cross-entropy loss\n",
        "            loss = outputs.loss\n",
        "\n",
        "            # Store loss\n",
        "            losses[lang][split].append(loss.item())\n"
      ],
      "metadata": {
        "colab": {
          "base_uri": "https://localhost:8080/"
        },
        "id": "ayelNikFrDMq",
        "outputId": "4d007710-762f-41c4-8d20-7f7dd2923222"
      },
      "execution_count": 63,
      "outputs": [
        {
          "output_type": "stream",
          "name": "stdout",
          "text": [
            "eng_Latn\n",
            "dev\n",
            "eng_Latn\n",
            "devtest\n",
            "spa_Latn\n",
            "dev\n",
            "spa_Latn\n",
            "devtest\n",
            "ita_Latn\n",
            "dev\n",
            "ita_Latn\n",
            "devtest\n",
            "deu_Latn\n",
            "dev\n",
            "deu_Latn\n",
            "devtest\n",
            "arb_Arab\n",
            "dev\n",
            "arb_Arab\n",
            "devtest\n",
            "tel_Telu\n",
            "dev\n",
            "tel_Telu\n",
            "devtest\n",
            "tam_Taml\n",
            "dev\n",
            "tam_Taml\n",
            "devtest\n",
            "quy_Latn\n",
            "dev\n",
            "quy_Latn\n",
            "devtest\n"
          ]
        }
      ]
    },
    {
      "cell_type": "markdown",
      "metadata": {
        "id": "NnMyMBQ-ChYv"
      },
      "source": [
        "## Visualize loss per language"
      ]
    },
    {
      "cell_type": "code",
      "execution_count": 64,
      "metadata": {
        "colab": {
          "base_uri": "https://localhost:8080/",
          "height": 564
        },
        "id": "-Iiwdb5eChYv",
        "outputId": "57e67d30-afa9-4ce9-a228-eccf4196bf42"
      },
      "outputs": [
        {
          "output_type": "display_data",
          "data": {
            "text/plain": [
              "<Figure size 1000x600 with 1 Axes>"
            ],
            "image/png": "[encoded data removed]"
          },
          "metadata": {}
        }
      ],
      "source": [
        "\n",
        "# create a bar plot for each langauge\n",
        "# TODO: your code goes here\n",
        "# Calculate the average loss for each language\n",
        "\n",
        "average_losses = {lang: {'dev': None, 'devtest': None} for lang in LANGUAGES}\n",
        "\n",
        "# Calculate average losses\n",
        "for lang, lang_losses in losses.items():\n",
        "    for split, split_losses in lang_losses.items():\n",
        "        avg_loss = sum(split_losses) / len(split_losses)\n",
        "        average_losses[lang][split] = avg_loss\n",
        "\n",
        "import matplotlib.pyplot as plt\n",
        "\n",
        "# Extracting data for plotting\n",
        "languages = list(average_losses.keys())\n",
        "train_avg_losses = [average_losses[lang]['dev'] for lang in languages]\n",
        "validation_avg_losses = [average_losses[lang]['devtest'] for lang in languages]\n",
        "\n",
        "# Set up the figure and axes\n",
        "fig, ax = plt.subplots(figsize=(10, 6))\n",
        "\n",
        "# Define the width of each bar\n",
        "bar_width = 0.35\n",
        "\n",
        "# Set positions for the bars\n",
        "index = range(len(languages))\n",
        "\n",
        "# Plotting bars for train and validation averages\n",
        "train_bars = ax.bar(index, train_avg_losses, bar_width, label='dev')\n",
        "validation_bars = ax.bar([i + bar_width for i in index], validation_avg_losses, bar_width, label='devtest')\n",
        "\n",
        "# Add labels, title, and legend\n",
        "ax.set_xlabel('Languages')\n",
        "ax.set_ylabel('Average Loss')\n",
        "ax.set_title('Average Losses for dev and devtest sets by Language')\n",
        "ax.set_xticks([i + bar_width / 2 for i in index])\n",
        "ax.set_xticklabels(languages)\n",
        "ax.legend()\n",
        "\n",
        "ax.set_ylim(0, 20)\n",
        "\n",
        "# Show the plot\n",
        "plt.show()\n"
      ]
    },
    {
      "cell_type": "code",
      "source": [
        "import json\n",
        "\n",
        "# Save train losses to a JSON file\n",
        "with open('dev_losses_xglm.json', 'w') as train_file:\n",
        "    json.dump(losses, train_file, indent=4)\n",
        "\n",
        "# Save validation losses to a JSON file\n",
        "with open('devtest_losses_xglm.json', 'w') as validation_file:\n",
        "    json.dump(losses, validation_file, indent=4)\n"
      ],
      "metadata": {
        "id": "E015HLKo2tRk"
      },
      "execution_count": 75,
      "outputs": []
    },
    {
      "cell_type": "markdown",
      "metadata": {
        "id": "CelHO9qSChYv"
      },
      "source": [
        "## Comparing XGLM to GPT2"
      ]
    },
    {
      "cell_type": "markdown",
      "metadata": {
        "id": "C_jti1xgChYv"
      },
      "source": [
        "Your next task is to re-run the analysis above, but using `gpt2` as the pre-trained language model. For this exercise, focus on your native language, unless it's English or isn't covered by flores. In that case, pick another language that you can read well.\n",
        "\n",
        "Compare the language modeling loss of XGLM and GPT2. What do you observe? Investigate the differences in tokenization for XGLM and GPT2. What do you observe? How can the good (or bad) performance of GPT2 be explained?"
      ]
    },
    {
      "cell_type": "code",
      "execution_count": 65,
      "metadata": {
        "id": "i9brJVLeChYw"
      },
      "outputs": [],
      "source": [
        "DATA_SET_NAME = \"facebook/flores\" # specify dataset name\n",
        "# MODEL_NAME = \"facebook/xglm-564M\" # specify model name\n",
        "MODEL_NAME = \"gpt2\" # specify model name"
      ]
    },
    {
      "cell_type": "code",
      "execution_count": 66,
      "metadata": {
        "id": "7xX2Scw2XVpK",
        "colab": {
          "base_uri": "https://localhost:8080/",
          "height": 49,
          "referenced_widgets": [
            "6278645f872f4ce2a314a89fa11e6cf4",
            "88efbeea677746459a73a95d5c987b11",
            "ffeaa9d7b0ca44bb89cd6534c6ee0e99",
            "9022bec922b2459b8fdd7d2f774fc3a5",
            "8b1a3f61a3f844e999bd282e4ff56b54",
            "1bfe1805843e4f36b42028422d79226d",
            "117aa78db3fe4f5db467000ae11fa7f3",
            "d07611af18e841ffb66733ae763846dd",
            "b04982025c344a61969ce73fbe3a5637",
            "667f41b8030c4bc5848e945089a0fe26",
            "915ddb75b6e0492fbb4e3bed131844fb"
          ]
        },
        "outputId": "69ebfff5-c734-45d3-f26c-b43dbc026a75"
      },
      "outputs": [
        {
          "output_type": "display_data",
          "data": {
            "text/plain": [
              "Map:   0%|          | 0/1012 [00:00<?, ? examples/s]"
            ],
            "application/vnd.jupyter.widget-view+json": {
              "version_major": 2,
              "version_minor": 0,
              "model_id": "6278645f872f4ce2a314a89fa11e6cf4"
            }
          },
          "metadata": {}
        }
      ],
      "source": [
        "# tokenize the data\n",
        "\n",
        "# load a pre-trained tokenizer from the huggingface hub\n",
        "tokenizer = AutoTokenizer.from_pretrained(MODEL_NAME)\n",
        "\n",
        "# gpt2 does not have a padding token, so we have to add it manually\n",
        "if MODEL_NAME == \"gpt2\":\n",
        "    tokenizer.add_special_tokens({'pad_token': tokenizer.unk_token})\n",
        "\n",
        "# specify the tokenization function\n",
        "def tokenization(example):\n",
        "    return tokenizer(example['sentence'], padding='max_length', truncation=True, max_length=42)\n",
        "\n",
        "# TODO: your code goes here\n",
        "tokenized_datasets = {}\n",
        "for language, dataset in flores_dataset.items():\n",
        "    tokenized_datasets[language] = dataset.map(tokenization, batched=True)"
      ]
    },
    {
      "cell_type": "code",
      "source": [
        "# construct a pytorch data loader for each dataset\n",
        "BATCH_SIZE = 2 # for testing purposes, we start with a batch size of 2. You can change this later.\n",
        "\n",
        "# TODO: your code goes here\n",
        "for language, dataset in tokenized_datasets.items():\n",
        "    for split in dataset.keys():\n",
        "        dataset[split].set_format(type='torch')\n",
        "\n",
        "data_loaders = {}\n",
        "for language, dataset in tokenized_datasets.items():\n",
        "    data_loaders[language] = {}\n",
        "    for split in dataset.keys():\n",
        "        data_loaders[language][split] = DataLoader(dataset[split], batch_size=BATCH_SIZE, shuffle=True)\n",
        "\n",
        "english_dev_loader = data_loaders['eng_Latn']['dev']\n",
        "print(english_dev_loader)"
      ],
      "metadata": {
        "colab": {
          "base_uri": "https://localhost:8080/"
        },
        "id": "VBbENKD1q1T5",
        "outputId": "fcbfbf13-de4e-41f9-993a-a9574c1b8f73"
      },
      "execution_count": 67,
      "outputs": [
        {
          "output_type": "stream",
          "name": "stdout",
          "text": [
            "<torch.utils.data.dataloader.DataLoader object at 0x7d0c4e01fee0>\n"
          ]
        }
      ]
    },
    {
      "cell_type": "code",
      "source": [
        "# load pre-trained model from the huggingface hub\n",
        "model = AutoModelForCausalLM.from_pretrained(MODEL_NAME)\n",
        "# put the model into evaluation mode\n",
        "# TODO: your code goes here\n",
        "model.eval()"
      ],
      "metadata": {
        "colab": {
          "base_uri": "https://localhost:8080/"
        },
        "id": "RZ83qWKorJRr",
        "outputId": "fa116e1d-37ad-466c-e6a7-bcd1d8c772ad"
      },
      "execution_count": 68,
      "outputs": [
        {
          "output_type": "execute_result",
          "data": {
            "text/plain": [
              "GPT2LMHeadModel(\n",
              "  (transformer): GPT2Model(\n",
              "    (wte): Embedding(50257, 768)\n",
              "    (wpe): Embedding(1024, 768)\n",
              "    (drop): Dropout(p=0.1, inplace=False)\n",
              "    (h): ModuleList(\n",
              "      (0-11): 12 x GPT2Block(\n",
              "        (ln_1): LayerNorm((768,), eps=1e-05, elementwise_affine=True)\n",
              "        (attn): GPT2Attention(\n",
              "          (c_attn): Conv1D()\n",
              "          (c_proj): Conv1D()\n",
              "          (attn_dropout): Dropout(p=0.1, inplace=False)\n",
              "          (resid_dropout): Dropout(p=0.1, inplace=False)\n",
              "        )\n",
              "        (ln_2): LayerNorm((768,), eps=1e-05, elementwise_affine=True)\n",
              "        (mlp): GPT2MLP(\n",
              "          (c_fc): Conv1D()\n",
              "          (c_proj): Conv1D()\n",
              "          (act): NewGELUActivation()\n",
              "          (dropout): Dropout(p=0.1, inplace=False)\n",
              "        )\n",
              "      )\n",
              "    )\n",
              "    (ln_f): LayerNorm((768,), eps=1e-05, elementwise_affine=True)\n",
              "  )\n",
              "  (lm_head): Linear(in_features=768, out_features=50257, bias=False)\n",
              ")"
            ]
          },
          "metadata": {},
          "execution_count": 68
        }
      ]
    },
    {
      "cell_type": "code",
      "source": [
        "device = torch.device(\"cuda\" if torch.cuda.is_available() else \"cpu\")\n",
        "model.to(device)"
      ],
      "metadata": {
        "colab": {
          "base_uri": "https://localhost:8080/"
        },
        "id": "z1Tfg1LRrT9x",
        "outputId": "4fd56e40-acd1-42cd-ff6d-5d4aaa3abb80"
      },
      "execution_count": 69,
      "outputs": [
        {
          "output_type": "execute_result",
          "data": {
            "text/plain": [
              "GPT2LMHeadModel(\n",
              "  (transformer): GPT2Model(\n",
              "    (wte): Embedding(50257, 768)\n",
              "    (wpe): Embedding(1024, 768)\n",
              "    (drop): Dropout(p=0.1, inplace=False)\n",
              "    (h): ModuleList(\n",
              "      (0-11): 12 x GPT2Block(\n",
              "        (ln_1): LayerNorm((768,), eps=1e-05, elementwise_affine=True)\n",
              "        (attn): GPT2Attention(\n",
              "          (c_attn): Conv1D()\n",
              "          (c_proj): Conv1D()\n",
              "          (attn_dropout): Dropout(p=0.1, inplace=False)\n",
              "          (resid_dropout): Dropout(p=0.1, inplace=False)\n",
              "        )\n",
              "        (ln_2): LayerNorm((768,), eps=1e-05, elementwise_affine=True)\n",
              "        (mlp): GPT2MLP(\n",
              "          (c_fc): Conv1D()\n",
              "          (c_proj): Conv1D()\n",
              "          (act): NewGELUActivation()\n",
              "          (dropout): Dropout(p=0.1, inplace=False)\n",
              "        )\n",
              "      )\n",
              "    )\n",
              "    (ln_f): LayerNorm((768,), eps=1e-05, elementwise_affine=True)\n",
              "  )\n",
              "  (lm_head): Linear(in_features=768, out_features=50257, bias=False)\n",
              ")"
            ]
          },
          "metadata": {},
          "execution_count": 69
        }
      ]
    },
    {
      "cell_type": "code",
      "source": [
        "# Initialize a dictionary to store per-batch losses for each language\n",
        "losses_gpt = {lang: {'dev': [], 'devtest': []} for lang in LANGUAGES}\n",
        "\n",
        "# Iterate over the dataset loaders for each language\n",
        "for lang, data_loader_dict in data_loaders.items():\n",
        "    for split, data_loader in data_loader_dict.items():\n",
        "        # Iterate over batches\n",
        "        print(lang)\n",
        "        print(split)\n",
        "        for batch in data_loader:\n",
        "            # Move input to CPU\n",
        "            input_ids = batch['input_ids']\n",
        "            attention_mask = batch['attention_mask']\n",
        "\n",
        "            # Forward pass\n",
        "            with torch.no_grad():\n",
        "                # Move input to GPU if available\n",
        "                input_ids = input_ids.to(device)\n",
        "                attention_mask = attention_mask.to(device)\n",
        "\n",
        "                outputs = model(input_ids, attention_mask=attention_mask, labels=input_ids)\n",
        "\n",
        "            # Compute cross-entropy loss\n",
        "            loss = outputs.loss\n",
        "\n",
        "            # Store loss\n",
        "            losses_gpt[lang][split].append(loss.item())\n"
      ],
      "metadata": {
        "colab": {
          "base_uri": "https://localhost:8080/"
        },
        "id": "uPzIxUAErZJM",
        "outputId": "8c1ce9ab-1f03-40e2-db66-af03d5d4bcba"
      },
      "execution_count": 70,
      "outputs": [
        {
          "output_type": "stream",
          "name": "stdout",
          "text": [
            "eng_Latn\n",
            "dev\n",
            "eng_Latn\n",
            "devtest\n",
            "spa_Latn\n",
            "dev\n",
            "spa_Latn\n",
            "devtest\n",
            "ita_Latn\n",
            "dev\n",
            "ita_Latn\n",
            "devtest\n",
            "deu_Latn\n",
            "dev\n",
            "deu_Latn\n",
            "devtest\n",
            "arb_Arab\n",
            "dev\n",
            "arb_Arab\n",
            "devtest\n",
            "tel_Telu\n",
            "dev\n",
            "tel_Telu\n",
            "devtest\n",
            "tam_Taml\n",
            "dev\n",
            "tam_Taml\n",
            "devtest\n",
            "quy_Latn\n",
            "dev\n",
            "quy_Latn\n",
            "devtest\n"
          ]
        }
      ]
    },
    {
      "cell_type": "code",
      "source": [
        "# import json\n",
        "\n",
        "# Save train losses to a JSON file\n",
        "with open('dev_losses_gpt.json', 'w') as train_file:\n",
        "    json.dump(losses_gpt, train_file, indent=4)\n",
        "\n",
        "# Save validation losses to a JSON file\n",
        "with open('devtest_losses_gpt.json', 'w') as validation_file:\n",
        "    json.dump(losses_gpt, validation_file, indent=4)\n"
      ],
      "metadata": {
        "id": "HHZ3ri7I3GYb"
      },
      "execution_count": 76,
      "outputs": []
    },
    {
      "cell_type": "code",
      "source": [
        "\n",
        "# create a bar plot for each langauge\n",
        "# TODO: your code goes here\n",
        "# Calculate the average loss for each language\n",
        "\n",
        "average_losses_gpt = {lang: {'dev': None, 'devtest': None} for lang in LANGUAGES}\n",
        "\n",
        "# Calculate average losses\n",
        "for lang, lang_losses in losses_gpt.items():\n",
        "    for split, split_losses in lang_losses.items():\n",
        "        avg_loss = sum(split_losses) / len(split_losses)\n",
        "        average_losses_gpt[lang][split] = avg_loss\n",
        "\n",
        "import matplotlib.pyplot as plt\n",
        "\n",
        "# Extracting data for plotting\n",
        "languages = list(average_losses_gpt.keys())\n",
        "train_avg_losses_gpt = [average_losses_gpt[lang]['dev'] for lang in languages]\n",
        "validation_avg_losses_gpt = [average_losses_gpt[lang]['devtest'] for lang in languages]\n",
        "\n",
        "# Set up the figure and axes\n",
        "fig, ax = plt.subplots(figsize=(10, 6))\n",
        "\n",
        "# Define the width of each bar\n",
        "bar_width = 0.35\n",
        "\n",
        "# Set positions for the bars\n",
        "index = range(len(languages))\n",
        "\n",
        "# Plotting bars for train and validation averages\n",
        "train_bars = ax.bar(index, train_avg_losses_gpt, bar_width, label='dev')\n",
        "validation_bars = ax.bar([i + bar_width for i in index], validation_avg_losses_gpt, bar_width, label='devtest')\n",
        "\n",
        "# Add labels, title, and legend\n",
        "ax.set_xlabel('Languages')\n",
        "ax.set_ylabel('Average Loss')\n",
        "ax.set_title('Average Losses for dev and devtest sets by Language')\n",
        "ax.set_xticks([i + bar_width / 2 for i in index])\n",
        "ax.set_xticklabels(languages)\n",
        "ax.legend()\n",
        "\n",
        "ax.set_ylim(0, 20)\n",
        "\n",
        "# Show the plot\n",
        "plt.show()\n"
      ],
      "metadata": {
        "colab": {
          "base_uri": "https://localhost:8080/",
          "height": 564
        },
        "id": "mHQFoIHHrlp-",
        "outputId": "7ff1a6f9-9972-42ad-c7a1-3394c0a4c3bc"
      },
      "execution_count": 71,
      "outputs": [
        {
          "output_type": "display_data",
          "data": {
            "text/plain": [
              "<Figure size 1000x600 with 1 Axes>"
            ],
            "image/png": "[encoded data removed]"
          },
          "metadata": {}
        }
      ]
    },
    {
      "cell_type": "code",
      "source": [
        "# Extracting data for plotting\n",
        "native_lang = 'arb_Arab'\n",
        "dev_avgLoss_nativeLang = average_losses[native_lang]['dev']\n",
        "devtest_avgLoss_nativeLang = average_losses[native_lang]['devtest']\n",
        "dev_avgLoss_nativeLang_gpt = average_losses_gpt[native_lang]['dev']\n",
        "devtest_avgLoss_nativeLang_gpt = average_losses_gpt[native_lang]['devtest']\n",
        "\n",
        "dev_nativeLang = [average_losses[native_lang]['dev'], average_losses_gpt[native_lang]['dev']]\n",
        "devtest_nativeLang = [average_losses[native_lang]['devtest'], average_losses_gpt[native_lang]['devtest']]\n",
        "\n",
        "# Set up the figure and axes\n",
        "fig, ax = plt.subplots(figsize=(6, 6))\n",
        "\n",
        "# Define the width of each bar\n",
        "bar_width = 0.35\n",
        "\n",
        "model_names = [\"facebook/xglm-564M\", \"gpt2\"]\n",
        "\n",
        "# Set positions for the bars\n",
        "index = range(len(model_names))\n",
        "\n",
        "# Plotting bars for train and validation averages\n",
        "train_bars = ax.bar(index, dev_nativeLang, bar_width, label='dev')\n",
        "validation_bars = ax.bar([i + bar_width for i in index], devtest_nativeLang, bar_width, label='devtest')\n",
        "\n",
        "# Add labels, title, and legend\n",
        "ax.set_xlabel('Model')\n",
        "ax.set_ylabel('Average Loss')\n",
        "ax.set_title('Average Losses for dev and devtest for the Arabic language')\n",
        "ax.set_xticks([i + bar_width / 2 for i in index])\n",
        "ax.set_xticklabels(model_names)\n",
        "ax.legend()\n",
        "\n",
        "ax.set_ylim(0, 12)\n",
        "\n",
        "# Show the plot\n",
        "plt.show()\n"
      ],
      "metadata": {
        "colab": {
          "base_uri": "https://localhost:8080/",
          "height": 564
        },
        "id": "GkDpUDqLwZ8R",
        "outputId": "2f002134-42cb-4828-a45c-15d94bac686b"
      },
      "execution_count": 74,
      "outputs": [
        {
          "output_type": "display_data",
          "data": {
            "text/plain": [
              "<Figure size 600x600 with 1 Axes>"
            ],
            "image/png": "[encoded data removed]"
          },
          "metadata": {}
        }
      ]
    }
  ],
  "metadata": {
    "accelerator": "GPU",
    "colab": {
      "gpuType": "T4",
      "provenance": []
    },
    "kernelspec": {
      "display_name": "Python 3",
      "name": "python3"
    },
    "language_info": {
      "codemirror_mode": {
        "name": "ipython",
        "version": 3
      },
      "file_extension": ".py",
      "mimetype": "text/x-python",
      "name": "python",
      "nbconvert_exporter": "python",
      "pygments_lexer": "ipython3",
      "version": "3.11.0"
    },
    "widgets": {
      "application/vnd.jupyter.widget-state+json": {
        "314d7338a4da4464ab4a4f19554d0587": {
          "model_module": "@jupyter-widgets/controls",
          "model_name": "HBoxModel",
          "model_module_version": "1.5.0",
          "state": {
            "_dom_classes": [],
            "_model_module": "@jupyter-widgets/controls",
            "_model_module_version": "1.5.0",
            "_model_name": "HBoxModel",
            "_view_count": null,
            "_view_module": "@jupyter-widgets/controls",
            "_view_module_version": "1.5.0",
            "_view_name": "HBoxView",
            "box_style": "",
            "children": [
              "IPY_MODEL_20b1f21ec4fb41698f8c3389405f26f2",
              "IPY_MODEL_7fd2353526b94ed6a74109618a811dbf",
              "IPY_MODEL_2b808fdb5c6147ddb3957b47ced72573"
            ],
            "layout": "IPY_MODEL_b5d1ecf82b5248438ced8933f5cf917d"
          }
        },
        "20b1f21ec4fb41698f8c3389405f26f2": {
          "model_module": "@jupyter-widgets/controls",
          "model_name": "HTMLModel",
          "model_module_version": "1.5.0",
          "state": {
            "_dom_classes": [],
            "_model_module": "@jupyter-widgets/controls",
            "_model_module_version": "1.5.0",
            "_model_name": "HTMLModel",
            "_view_count": null,
            "_view_module": "@jupyter-widgets/controls",
            "_view_module_version": "1.5.0",
            "_view_name": "HTMLView",
            "description": "",
            "description_tooltip": null,
            "layout": "IPY_MODEL_42e6f140696b470c82a163f0be5a6691",
            "placeholder": "​",
            "style": "IPY_MODEL_9d7cc1bf6e7949dc8461cc39910a4c4a",
            "value": "Map: 100%"
          }
        },
        "7fd2353526b94ed6a74109618a811dbf": {
          "model_module": "@jupyter-widgets/controls",
          "model_name": "FloatProgressModel",
          "model_module_version": "1.5.0",
          "state": {
            "_dom_classes": [],
            "_model_module": "@jupyter-widgets/controls",
            "_model_module_version": "1.5.0",
            "_model_name": "FloatProgressModel",
            "_view_count": null,
            "_view_module": "@jupyter-widgets/controls",
            "_view_module_version": "1.5.0",
            "_view_name": "ProgressView",
            "bar_style": "success",
            "description": "",
            "description_tooltip": null,
            "layout": "IPY_MODEL_0c0bd88d8c124615a97c8041fadfb6f0",
            "max": 1012,
            "min": 0,
            "orientation": "horizontal",
            "style": "IPY_MODEL_f7336d486dbd4835ac016d75c94106a4",
            "value": 1012
          }
        },
        "2b808fdb5c6147ddb3957b47ced72573": {
          "model_module": "@jupyter-widgets/controls",
          "model_name": "HTMLModel",
          "model_module_version": "1.5.0",
          "state": {
            "_dom_classes": [],
            "_model_module": "@jupyter-widgets/controls",
            "_model_module_version": "1.5.0",
            "_model_name": "HTMLModel",
            "_view_count": null,
            "_view_module": "@jupyter-widgets/controls",
            "_view_module_version": "1.5.0",
            "_view_name": "HTMLView",
            "description": "",
            "description_tooltip": null,
            "layout": "IPY_MODEL_b551bdbd2cce43b09e7d31dcdf04400d",
            "placeholder": "​",
            "style": "IPY_MODEL_926f6181347f4ce7b50715dc9f3568cc",
            "value": " 1012/1012 [00:00&lt;00:00, 6380.17 examples/s]"
          }
        },
        "b5d1ecf82b5248438ced8933f5cf917d": {
          "model_module": "@jupyter-widgets/base",
          "model_name": "LayoutModel",
          "model_module_version": "1.2.0",
          "state": {
            "_model_module": "@jupyter-widgets/base",
            "_model_module_version": "1.2.0",
            "_model_name": "LayoutModel",
            "_view_count": null,
            "_view_module": "@jupyter-widgets/base",
            "_view_module_version": "1.2.0",
            "_view_name": "LayoutView",
            "align_content": null,
            "align_items": null,
            "align_self": null,
            "border": null,
            "bottom": null,
            "display": null,
            "flex": null,
            "flex_flow": null,
            "grid_area": null,
            "grid_auto_columns": null,
            "grid_auto_flow": null,
            "grid_auto_rows": null,
            "grid_column": null,
            "grid_gap": null,
            "grid_row": null,
            "grid_template_areas": null,
            "grid_template_columns": null,
            "grid_template_rows": null,
            "height": null,
            "justify_content": null,
            "justify_items": null,
            "left": null,
            "margin": null,
            "max_height": null,
            "max_width": null,
            "min_height": null,
            "min_width": null,
            "object_fit": null,
            "object_position": null,
            "order": null,
            "overflow": null,
            "overflow_x": null,
            "overflow_y": null,
            "padding": null,
            "right": null,
            "top": null,
            "visibility": null,
            "width": null
          }
        },
        "42e6f140696b470c82a163f0be5a6691": {
          "model_module": "@jupyter-widgets/base",
          "model_name": "LayoutModel",
          "model_module_version": "1.2.0",
          "state": {
            "_model_module": "@jupyter-widgets/base",
            "_model_module_version": "1.2.0",
            "_model_name": "LayoutModel",
            "_view_count": null,
            "_view_module": "@jupyter-widgets/base",
            "_view_module_version": "1.2.0",
            "_view_name": "LayoutView",
            "align_content": null,
            "align_items": null,
            "align_self": null,
            "border": null,
            "bottom": null,
            "display": null,
            "flex": null,
            "flex_flow": null,
            "grid_area": null,
            "grid_auto_columns": null,
            "grid_auto_flow": null,
            "grid_auto_rows": null,
            "grid_column": null,
            "grid_gap": null,
            "grid_row": null,
            "grid_template_areas": null,
            "grid_template_columns": null,
            "grid_template_rows": null,
            "height": null,
            "justify_content": null,
            "justify_items": null,
            "left": null,
            "margin": null,
            "max_height": null,
            "max_width": null,
            "min_height": null,
            "min_width": null,
            "object_fit": null,
            "object_position": null,
            "order": null,
            "overflow": null,
            "overflow_x": null,
            "overflow_y": null,
            "padding": null,
            "right": null,
            "top": null,
            "visibility": null,
            "width": null
          }
        },
        "9d7cc1bf6e7949dc8461cc39910a4c4a": {
          "model_module": "@jupyter-widgets/controls",
          "model_name": "DescriptionStyleModel",
          "model_module_version": "1.5.0",
          "state": {
            "_model_module": "@jupyter-widgets/controls",
            "_model_module_version": "1.5.0",
            "_model_name": "DescriptionStyleModel",
            "_view_count": null,
            "_view_module": "@jupyter-widgets/base",
            "_view_module_version": "1.2.0",
            "_view_name": "StyleView",
            "description_width": ""
          }
        },
        "0c0bd88d8c124615a97c8041fadfb6f0": {
          "model_module": "@jupyter-widgets/base",
          "model_name": "LayoutModel",
          "model_module_version": "1.2.0",
          "state": {
            "_model_module": "@jupyter-widgets/base",
            "_model_module_version": "1.2.0",
            "_model_name": "LayoutModel",
            "_view_count": null,
            "_view_module": "@jupyter-widgets/base",
            "_view_module_version": "1.2.0",
            "_view_name": "LayoutView",
            "align_content": null,
            "align_items": null,
            "align_self": null,
            "border": null,
            "bottom": null,
            "display": null,
            "flex": null,
            "flex_flow": null,
            "grid_area": null,
            "grid_auto_columns": null,
            "grid_auto_flow": null,
            "grid_auto_rows": null,
            "grid_column": null,
            "grid_gap": null,
            "grid_row": null,
            "grid_template_areas": null,
            "grid_template_columns": null,
            "grid_template_rows": null,
            "height": null,
            "justify_content": null,
            "justify_items": null,
            "left": null,
            "margin": null,
            "max_height": null,
            "max_width": null,
            "min_height": null,
            "min_width": null,
            "object_fit": null,
            "object_position": null,
            "order": null,
            "overflow": null,
            "overflow_x": null,
            "overflow_y": null,
            "padding": null,
            "right": null,
            "top": null,
            "visibility": null,
            "width": null
          }
        },
        "f7336d486dbd4835ac016d75c94106a4": {
          "model_module": "@jupyter-widgets/controls",
          "model_name": "ProgressStyleModel",
          "model_module_version": "1.5.0",
          "state": {
            "_model_module": "@jupyter-widgets/controls",
            "_model_module_version": "1.5.0",
            "_model_name": "ProgressStyleModel",
            "_view_count": null,
            "_view_module": "@jupyter-widgets/base",
            "_view_module_version": "1.2.0",
            "_view_name": "StyleView",
            "bar_color": null,
            "description_width": ""
          }
        },
        "b551bdbd2cce43b09e7d31dcdf04400d": {
          "model_module": "@jupyter-widgets/base",
          "model_name": "LayoutModel",
          "model_module_version": "1.2.0",
          "state": {
            "_model_module": "@jupyter-widgets/base",
            "_model_module_version": "1.2.0",
            "_model_name": "LayoutModel",
            "_view_count": null,
            "_view_module": "@jupyter-widgets/base",
            "_view_module_version": "1.2.0",
            "_view_name": "LayoutView",
            "align_content": null,
            "align_items": null,
            "align_self": null,
            "border": null,
            "bottom": null,
            "display": null,
            "flex": null,
            "flex_flow": null,
            "grid_area": null,
            "grid_auto_columns": null,
            "grid_auto_flow": null,
            "grid_auto_rows": null,
            "grid_column": null,
            "grid_gap": null,
            "grid_row": null,
            "grid_template_areas": null,
            "grid_template_columns": null,
            "grid_template_rows": null,
            "height": null,
            "justify_content": null,
            "justify_items": null,
            "left": null,
            "margin": null,
            "max_height": null,
            "max_width": null,
            "min_height": null,
            "min_width": null,
            "object_fit": null,
            "object_position": null,
            "order": null,
            "overflow": null,
            "overflow_x": null,
            "overflow_y": null,
            "padding": null,
            "right": null,
            "top": null,
            "visibility": null,
            "width": null
          }
        },
        "926f6181347f4ce7b50715dc9f3568cc": {
          "model_module": "@jupyter-widgets/controls",
          "model_name": "DescriptionStyleModel",
          "model_module_version": "1.5.0",
          "state": {
            "_model_module": "@jupyter-widgets/controls",
            "_model_module_version": "1.5.0",
            "_model_name": "DescriptionStyleModel",
            "_view_count": null,
            "_view_module": "@jupyter-widgets/base",
            "_view_module_version": "1.2.0",
            "_view_name": "StyleView",
            "description_width": ""
          }
        },
        "6278645f872f4ce2a314a89fa11e6cf4": {
          "model_module": "@jupyter-widgets/controls",
          "model_name": "HBoxModel",
          "model_module_version": "1.5.0",
          "state": {
            "_dom_classes": [],
            "_model_module": "@jupyter-widgets/controls",
            "_model_module_version": "1.5.0",
            "_model_name": "HBoxModel",
            "_view_count": null,
            "_view_module": "@jupyter-widgets/controls",
            "_view_module_version": "1.5.0",
            "_view_name": "HBoxView",
            "box_style": "",
            "children": [
              "IPY_MODEL_88efbeea677746459a73a95d5c987b11",
              "IPY_MODEL_ffeaa9d7b0ca44bb89cd6534c6ee0e99",
              "IPY_MODEL_9022bec922b2459b8fdd7d2f774fc3a5"
            ],
            "layout": "IPY_MODEL_8b1a3f61a3f844e999bd282e4ff56b54"
          }
        },
        "88efbeea677746459a73a95d5c987b11": {
          "model_module": "@jupyter-widgets/controls",
          "model_name": "HTMLModel",
          "model_module_version": "1.5.0",
          "state": {
            "_dom_classes": [],
            "_model_module": "@jupyter-widgets/controls",
            "_model_module_version": "1.5.0",
            "_model_name": "HTMLModel",
            "_view_count": null,
            "_view_module": "@jupyter-widgets/controls",
            "_view_module_version": "1.5.0",
            "_view_name": "HTMLView",
            "description": "",
            "description_tooltip": null,
            "layout": "IPY_MODEL_1bfe1805843e4f36b42028422d79226d",
            "placeholder": "​",
            "style": "IPY_MODEL_117aa78db3fe4f5db467000ae11fa7f3",
            "value": "Map: 100%"
          }
        },
        "ffeaa9d7b0ca44bb89cd6534c6ee0e99": {
          "model_module": "@jupyter-widgets/controls",
          "model_name": "FloatProgressModel",
          "model_module_version": "1.5.0",
          "state": {
            "_dom_classes": [],
            "_model_module": "@jupyter-widgets/controls",
            "_model_module_version": "1.5.0",
            "_model_name": "FloatProgressModel",
            "_view_count": null,
            "_view_module": "@jupyter-widgets/controls",
            "_view_module_version": "1.5.0",
            "_view_name": "ProgressView",
            "bar_style": "success",
            "description": "",
            "description_tooltip": null,
            "layout": "IPY_MODEL_d07611af18e841ffb66733ae763846dd",
            "max": 1012,
            "min": 0,
            "orientation": "horizontal",
            "style": "IPY_MODEL_b04982025c344a61969ce73fbe3a5637",
            "value": 1012
          }
        },
        "9022bec922b2459b8fdd7d2f774fc3a5": {
          "model_module": "@jupyter-widgets/controls",
          "model_name": "HTMLModel",
          "model_module_version": "1.5.0",
          "state": {
            "_dom_classes": [],
            "_model_module": "@jupyter-widgets/controls",
            "_model_module_version": "1.5.0",
            "_model_name": "HTMLModel",
            "_view_count": null,
            "_view_module": "@jupyter-widgets/controls",
            "_view_module_version": "1.5.0",
            "_view_name": "HTMLView",
            "description": "",
            "description_tooltip": null,
            "layout": "IPY_MODEL_667f41b8030c4bc5848e945089a0fe26",
            "placeholder": "​",
            "style": "IPY_MODEL_915ddb75b6e0492fbb4e3bed131844fb",
            "value": " 1012/1012 [00:00&lt;00:00, 7274.39 examples/s]"
          }
        },
        "8b1a3f61a3f844e999bd282e4ff56b54": {
          "model_module": "@jupyter-widgets/base",
          "model_name": "LayoutModel",
          "model_module_version": "1.2.0",
          "state": {
            "_model_module": "@jupyter-widgets/base",
            "_model_module_version": "1.2.0",
            "_model_name": "LayoutModel",
            "_view_count": null,
            "_view_module": "@jupyter-widgets/base",
            "_view_module_version": "1.2.0",
            "_view_name": "LayoutView",
            "align_content": null,
            "align_items": null,
            "align_self": null,
            "border": null,
            "bottom": null,
            "display": null,
            "flex": null,
            "flex_flow": null,
            "grid_area": null,
            "grid_auto_columns": null,
            "grid_auto_flow": null,
            "grid_auto_rows": null,
            "grid_column": null,
            "grid_gap": null,
            "grid_row": null,
            "grid_template_areas": null,
            "grid_template_columns": null,
            "grid_template_rows": null,
            "height": null,
            "justify_content": null,
            "justify_items": null,
            "left": null,
            "margin": null,
            "max_height": null,
            "max_width": null,
            "min_height": null,
            "min_width": null,
            "object_fit": null,
            "object_position": null,
            "order": null,
            "overflow": null,
            "overflow_x": null,
            "overflow_y": null,
            "padding": null,
            "right": null,
            "top": null,
            "visibility": null,
            "width": null
          }
        },
        "1bfe1805843e4f36b42028422d79226d": {
          "model_module": "@jupyter-widgets/base",
          "model_name": "LayoutModel",
          "model_module_version": "1.2.0",
          "state": {
            "_model_module": "@jupyter-widgets/base",
            "_model_module_version": "1.2.0",
            "_model_name": "LayoutModel",
            "_view_count": null,
            "_view_module": "@jupyter-widgets/base",
            "_view_module_version": "1.2.0",
            "_view_name": "LayoutView",
            "align_content": null,
            "align_items": null,
            "align_self": null,
            "border": null,
            "bottom": null,
            "display": null,
            "flex": null,
            "flex_flow": null,
            "grid_area": null,
            "grid_auto_columns": null,
            "grid_auto_flow": null,
            "grid_auto_rows": null,
            "grid_column": null,
            "grid_gap": null,
            "grid_row": null,
            "grid_template_areas": null,
            "grid_template_columns": null,
            "grid_template_rows": null,
            "height": null,
            "justify_content": null,
            "justify_items": null,
            "left": null,
            "margin": null,
            "max_height": null,
            "max_width": null,
            "min_height": null,
            "min_width": null,
            "object_fit": null,
            "object_position": null,
            "order": null,
            "overflow": null,
            "overflow_x": null,
            "overflow_y": null,
            "padding": null,
            "right": null,
            "top": null,
            "visibility": null,
            "width": null
          }
        },
        "117aa78db3fe4f5db467000ae11fa7f3": {
          "model_module": "@jupyter-widgets/controls",
          "model_name": "DescriptionStyleModel",
          "model_module_version": "1.5.0",
          "state": {
            "_model_module": "@jupyter-widgets/controls",
            "_model_module_version": "1.5.0",
            "_model_name": "DescriptionStyleModel",
            "_view_count": null,
            "_view_module": "@jupyter-widgets/base",
            "_view_module_version": "1.2.0",
            "_view_name": "StyleView",
            "description_width": ""
          }
        },
        "d07611af18e841ffb66733ae763846dd": {
          "model_module": "@jupyter-widgets/base",
          "model_name": "LayoutModel",
          "model_module_version": "1.2.0",
          "state": {
            "_model_module": "@jupyter-widgets/base",
            "_model_module_version": "1.2.0",
            "_model_name": "LayoutModel",
            "_view_count": null,
            "_view_module": "@jupyter-widgets/base",
            "_view_module_version": "1.2.0",
            "_view_name": "LayoutView",
            "align_content": null,
            "align_items": null,
            "align_self": null,
            "border": null,
            "bottom": null,
            "display": null,
            "flex": null,
            "flex_flow": null,
            "grid_area": null,
            "grid_auto_columns": null,
            "grid_auto_flow": null,
            "grid_auto_rows": null,
            "grid_column": null,
            "grid_gap": null,
            "grid_row": null,
            "grid_template_areas": null,
            "grid_template_columns": null,
            "grid_template_rows": null,
            "height": null,
            "justify_content": null,
            "justify_items": null,
            "left": null,
            "margin": null,
            "max_height": null,
            "max_width": null,
            "min_height": null,
            "min_width": null,
            "object_fit": null,
            "object_position": null,
            "order": null,
            "overflow": null,
            "overflow_x": null,
            "overflow_y": null,
            "padding": null,
            "right": null,
            "top": null,
            "visibility": null,
            "width": null
          }
        },
        "b04982025c344a61969ce73fbe3a5637": {
          "model_module": "@jupyter-widgets/controls",
          "model_name": "ProgressStyleModel",
          "model_module_version": "1.5.0",
          "state": {
            "_model_module": "@jupyter-widgets/controls",
            "_model_module_version": "1.5.0",
            "_model_name": "ProgressStyleModel",
            "_view_count": null,
            "_view_module": "@jupyter-widgets/base",
            "_view_module_version": "1.2.0",
            "_view_name": "StyleView",
            "bar_color": null,
            "description_width": ""
          }
        },
        "667f41b8030c4bc5848e945089a0fe26": {
          "model_module": "@jupyter-widgets/base",
          "model_name": "LayoutModel",
          "model_module_version": "1.2.0",
          "state": {
            "_model_module": "@jupyter-widgets/base",
            "_model_module_version": "1.2.0",
            "_model_name": "LayoutModel",
            "_view_count": null,
            "_view_module": "@jupyter-widgets/base",
            "_view_module_version": "1.2.0",
            "_view_name": "LayoutView",
            "align_content": null,
            "align_items": null,
            "align_self": null,
            "border": null,
            "bottom": null,
            "display": null,
            "flex": null,
            "flex_flow": null,
            "grid_area": null,
            "grid_auto_columns": null,
            "grid_auto_flow": null,
            "grid_auto_rows": null,
            "grid_column": null,
            "grid_gap": null,
            "grid_row": null,
            "grid_template_areas": null,
            "grid_template_columns": null,
            "grid_template_rows": null,
            "height": null,
            "justify_content": null,
            "justify_items": null,
            "left": null,
            "margin": null,
            "max_height": null,
            "max_width": null,
            "min_height": null,
            "min_width": null,
            "object_fit": null,
            "object_position": null,
            "order": null,
            "overflow": null,
            "overflow_x": null,
            "overflow_y": null,
            "padding": null,
            "right": null,
            "top": null,
            "visibility": null,
            "width": null
          }
        },
        "915ddb75b6e0492fbb4e3bed131844fb": {
          "model_module": "@jupyter-widgets/controls",
          "model_name": "DescriptionStyleModel",
          "model_module_version": "1.5.0",
          "state": {
            "_model_module": "@jupyter-widgets/controls",
            "_model_module_version": "1.5.0",
            "_model_name": "DescriptionStyleModel",
            "_view_count": null,
            "_view_module": "@jupyter-widgets/base",
            "_view_module_version": "1.2.0",
            "_view_name": "StyleView",
            "description_width": ""
          }
        }
      }
    }
  },
  "nbformat": 4,
  "nbformat_minor": 0
}